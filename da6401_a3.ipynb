{
  "nbformat": 4,
  "nbformat_minor": 0,
  "metadata": {
    "colab": {
      "provenance": [],
      "authorship_tag": "ABX9TyMjgKZ+Z6v4HjX8gQJah2Ld",
      "include_colab_link": true
    },
    "kernelspec": {
      "name": "python3",
      "display_name": "Python 3"
    },
    "language_info": {
      "name": "python"
    }
  },
  "cells": [
    {
      "cell_type": "markdown",
      "metadata": {
        "id": "view-in-github",
        "colab_type": "text"
      },
      "source": [
        "<a href=\"https://colab.research.google.com/github/bs21b038/assignment2data/blob/main/da6401_a3.ipynb\" target=\"_parent\"><img src=\"https://colab.research.google.com/assets/colab-badge.svg\" alt=\"Open In Colab\"/></a>"
      ]
    },
    {
      "cell_type": "code",
      "execution_count": 46,
      "metadata": {
        "colab": {
          "base_uri": "https://localhost:8080/",
          "height": 424
        },
        "id": "U-kT4v98NTrh",
        "outputId": "ed668802-4a23-47bc-b6a5-0d239646b308"
      },
      "outputs": [
        {
          "output_type": "execute_result",
          "data": {
            "text/plain": [
              "         devanagari        latin  serial\n",
              "0             అంకిత       amkita       1\n",
              "1             అంకిత       ankita       2\n",
              "2             అంకిత      ankitha       2\n",
              "3            అంకితం      ankitam       1\n",
              "4            అంకితం     ankitham       2\n",
              "...             ...          ...     ...\n",
              "58545  హ్యుమానిటీస్  huumanities       1\n",
              "58546       హ్యూమన్        human       3\n",
              "58547       హ్యూమన్       humane       1\n",
              "58548       హ్యూమన్      huumane       1\n",
              "58549       హ్యూమన్       hyuman       2\n",
              "\n",
              "[58550 rows x 3 columns]"
            ],
            "text/html": [
              "\n",
              "  <div id=\"df-af333c08-6627-4839-9fbd-8873adf4e7a5\" class=\"colab-df-container\">\n",
              "    <div>\n",
              "<style scoped>\n",
              "    .dataframe tbody tr th:only-of-type {\n",
              "        vertical-align: middle;\n",
              "    }\n",
              "\n",
              "    .dataframe tbody tr th {\n",
              "        vertical-align: top;\n",
              "    }\n",
              "\n",
              "    .dataframe thead th {\n",
              "        text-align: right;\n",
              "    }\n",
              "</style>\n",
              "<table border=\"1\" class=\"dataframe\">\n",
              "  <thead>\n",
              "    <tr style=\"text-align: right;\">\n",
              "      <th></th>\n",
              "      <th>devanagari</th>\n",
              "      <th>latin</th>\n",
              "      <th>serial</th>\n",
              "    </tr>\n",
              "  </thead>\n",
              "  <tbody>\n",
              "    <tr>\n",
              "      <th>0</th>\n",
              "      <td>అంకిత</td>\n",
              "      <td>amkita</td>\n",
              "      <td>1</td>\n",
              "    </tr>\n",
              "    <tr>\n",
              "      <th>1</th>\n",
              "      <td>అంకిత</td>\n",
              "      <td>ankita</td>\n",
              "      <td>2</td>\n",
              "    </tr>\n",
              "    <tr>\n",
              "      <th>2</th>\n",
              "      <td>అంకిత</td>\n",
              "      <td>ankitha</td>\n",
              "      <td>2</td>\n",
              "    </tr>\n",
              "    <tr>\n",
              "      <th>3</th>\n",
              "      <td>అంకితం</td>\n",
              "      <td>ankitam</td>\n",
              "      <td>1</td>\n",
              "    </tr>\n",
              "    <tr>\n",
              "      <th>4</th>\n",
              "      <td>అంకితం</td>\n",
              "      <td>ankitham</td>\n",
              "      <td>2</td>\n",
              "    </tr>\n",
              "    <tr>\n",
              "      <th>...</th>\n",
              "      <td>...</td>\n",
              "      <td>...</td>\n",
              "      <td>...</td>\n",
              "    </tr>\n",
              "    <tr>\n",
              "      <th>58545</th>\n",
              "      <td>హ్యుమానిటీస్</td>\n",
              "      <td>huumanities</td>\n",
              "      <td>1</td>\n",
              "    </tr>\n",
              "    <tr>\n",
              "      <th>58546</th>\n",
              "      <td>హ్యూమన్</td>\n",
              "      <td>human</td>\n",
              "      <td>3</td>\n",
              "    </tr>\n",
              "    <tr>\n",
              "      <th>58547</th>\n",
              "      <td>హ్యూమన్</td>\n",
              "      <td>humane</td>\n",
              "      <td>1</td>\n",
              "    </tr>\n",
              "    <tr>\n",
              "      <th>58548</th>\n",
              "      <td>హ్యూమన్</td>\n",
              "      <td>huumane</td>\n",
              "      <td>1</td>\n",
              "    </tr>\n",
              "    <tr>\n",
              "      <th>58549</th>\n",
              "      <td>హ్యూమన్</td>\n",
              "      <td>hyuman</td>\n",
              "      <td>2</td>\n",
              "    </tr>\n",
              "  </tbody>\n",
              "</table>\n",
              "<p>58550 rows × 3 columns</p>\n",
              "</div>\n",
              "    <div class=\"colab-df-buttons\">\n",
              "\n",
              "  <div class=\"colab-df-container\">\n",
              "    <button class=\"colab-df-convert\" onclick=\"convertToInteractive('df-af333c08-6627-4839-9fbd-8873adf4e7a5')\"\n",
              "            title=\"Convert this dataframe to an interactive table.\"\n",
              "            style=\"display:none;\">\n",
              "\n",
              "  <svg xmlns=\"http://www.w3.org/2000/svg\" height=\"24px\" viewBox=\"0 -960 960 960\">\n",
              "    <path d=\"M120-120v-720h720v720H120Zm60-500h600v-160H180v160Zm220 220h160v-160H400v160Zm0 220h160v-160H400v160ZM180-400h160v-160H180v160Zm440 0h160v-160H620v160ZM180-180h160v-160H180v160Zm440 0h160v-160H620v160Z\"/>\n",
              "  </svg>\n",
              "    </button>\n",
              "\n",
              "  <style>\n",
              "    .colab-df-container {\n",
              "      display:flex;\n",
              "      gap: 12px;\n",
              "    }\n",
              "\n",
              "    .colab-df-convert {\n",
              "      background-color: #E8F0FE;\n",
              "      border: none;\n",
              "      border-radius: 50%;\n",
              "      cursor: pointer;\n",
              "      display: none;\n",
              "      fill: #1967D2;\n",
              "      height: 32px;\n",
              "      padding: 0 0 0 0;\n",
              "      width: 32px;\n",
              "    }\n",
              "\n",
              "    .colab-df-convert:hover {\n",
              "      background-color: #E2EBFA;\n",
              "      box-shadow: 0px 1px 2px rgba(60, 64, 67, 0.3), 0px 1px 3px 1px rgba(60, 64, 67, 0.15);\n",
              "      fill: #174EA6;\n",
              "    }\n",
              "\n",
              "    .colab-df-buttons div {\n",
              "      margin-bottom: 4px;\n",
              "    }\n",
              "\n",
              "    [theme=dark] .colab-df-convert {\n",
              "      background-color: #3B4455;\n",
              "      fill: #D2E3FC;\n",
              "    }\n",
              "\n",
              "    [theme=dark] .colab-df-convert:hover {\n",
              "      background-color: #434B5C;\n",
              "      box-shadow: 0px 1px 3px 1px rgba(0, 0, 0, 0.15);\n",
              "      filter: drop-shadow(0px 1px 2px rgba(0, 0, 0, 0.3));\n",
              "      fill: #FFFFFF;\n",
              "    }\n",
              "  </style>\n",
              "\n",
              "    <script>\n",
              "      const buttonEl =\n",
              "        document.querySelector('#df-af333c08-6627-4839-9fbd-8873adf4e7a5 button.colab-df-convert');\n",
              "      buttonEl.style.display =\n",
              "        google.colab.kernel.accessAllowed ? 'block' : 'none';\n",
              "\n",
              "      async function convertToInteractive(key) {\n",
              "        const element = document.querySelector('#df-af333c08-6627-4839-9fbd-8873adf4e7a5');\n",
              "        const dataTable =\n",
              "          await google.colab.kernel.invokeFunction('convertToInteractive',\n",
              "                                                    [key], {});\n",
              "        if (!dataTable) return;\n",
              "\n",
              "        const docLinkHtml = 'Like what you see? Visit the ' +\n",
              "          '<a target=\"_blank\" href=https://colab.research.google.com/notebooks/data_table.ipynb>data table notebook</a>'\n",
              "          + ' to learn more about interactive tables.';\n",
              "        element.innerHTML = '';\n",
              "        dataTable['output_type'] = 'display_data';\n",
              "        await google.colab.output.renderOutput(dataTable, element);\n",
              "        const docLink = document.createElement('div');\n",
              "        docLink.innerHTML = docLinkHtml;\n",
              "        element.appendChild(docLink);\n",
              "      }\n",
              "    </script>\n",
              "  </div>\n",
              "\n",
              "\n",
              "    <div id=\"df-54357f6c-195d-44a1-89ad-9e615fc1acd7\">\n",
              "      <button class=\"colab-df-quickchart\" onclick=\"quickchart('df-54357f6c-195d-44a1-89ad-9e615fc1acd7')\"\n",
              "                title=\"Suggest charts\"\n",
              "                style=\"display:none;\">\n",
              "\n",
              "<svg xmlns=\"http://www.w3.org/2000/svg\" height=\"24px\"viewBox=\"0 0 24 24\"\n",
              "     width=\"24px\">\n",
              "    <g>\n",
              "        <path d=\"M19 3H5c-1.1 0-2 .9-2 2v14c0 1.1.9 2 2 2h14c1.1 0 2-.9 2-2V5c0-1.1-.9-2-2-2zM9 17H7v-7h2v7zm4 0h-2V7h2v10zm4 0h-2v-4h2v4z\"/>\n",
              "    </g>\n",
              "</svg>\n",
              "      </button>\n",
              "\n",
              "<style>\n",
              "  .colab-df-quickchart {\n",
              "      --bg-color: #E8F0FE;\n",
              "      --fill-color: #1967D2;\n",
              "      --hover-bg-color: #E2EBFA;\n",
              "      --hover-fill-color: #174EA6;\n",
              "      --disabled-fill-color: #AAA;\n",
              "      --disabled-bg-color: #DDD;\n",
              "  }\n",
              "\n",
              "  [theme=dark] .colab-df-quickchart {\n",
              "      --bg-color: #3B4455;\n",
              "      --fill-color: #D2E3FC;\n",
              "      --hover-bg-color: #434B5C;\n",
              "      --hover-fill-color: #FFFFFF;\n",
              "      --disabled-bg-color: #3B4455;\n",
              "      --disabled-fill-color: #666;\n",
              "  }\n",
              "\n",
              "  .colab-df-quickchart {\n",
              "    background-color: var(--bg-color);\n",
              "    border: none;\n",
              "    border-radius: 50%;\n",
              "    cursor: pointer;\n",
              "    display: none;\n",
              "    fill: var(--fill-color);\n",
              "    height: 32px;\n",
              "    padding: 0;\n",
              "    width: 32px;\n",
              "  }\n",
              "\n",
              "  .colab-df-quickchart:hover {\n",
              "    background-color: var(--hover-bg-color);\n",
              "    box-shadow: 0 1px 2px rgba(60, 64, 67, 0.3), 0 1px 3px 1px rgba(60, 64, 67, 0.15);\n",
              "    fill: var(--button-hover-fill-color);\n",
              "  }\n",
              "\n",
              "  .colab-df-quickchart-complete:disabled,\n",
              "  .colab-df-quickchart-complete:disabled:hover {\n",
              "    background-color: var(--disabled-bg-color);\n",
              "    fill: var(--disabled-fill-color);\n",
              "    box-shadow: none;\n",
              "  }\n",
              "\n",
              "  .colab-df-spinner {\n",
              "    border: 2px solid var(--fill-color);\n",
              "    border-color: transparent;\n",
              "    border-bottom-color: var(--fill-color);\n",
              "    animation:\n",
              "      spin 1s steps(1) infinite;\n",
              "  }\n",
              "\n",
              "  @keyframes spin {\n",
              "    0% {\n",
              "      border-color: transparent;\n",
              "      border-bottom-color: var(--fill-color);\n",
              "      border-left-color: var(--fill-color);\n",
              "    }\n",
              "    20% {\n",
              "      border-color: transparent;\n",
              "      border-left-color: var(--fill-color);\n",
              "      border-top-color: var(--fill-color);\n",
              "    }\n",
              "    30% {\n",
              "      border-color: transparent;\n",
              "      border-left-color: var(--fill-color);\n",
              "      border-top-color: var(--fill-color);\n",
              "      border-right-color: var(--fill-color);\n",
              "    }\n",
              "    40% {\n",
              "      border-color: transparent;\n",
              "      border-right-color: var(--fill-color);\n",
              "      border-top-color: var(--fill-color);\n",
              "    }\n",
              "    60% {\n",
              "      border-color: transparent;\n",
              "      border-right-color: var(--fill-color);\n",
              "    }\n",
              "    80% {\n",
              "      border-color: transparent;\n",
              "      border-right-color: var(--fill-color);\n",
              "      border-bottom-color: var(--fill-color);\n",
              "    }\n",
              "    90% {\n",
              "      border-color: transparent;\n",
              "      border-bottom-color: var(--fill-color);\n",
              "    }\n",
              "  }\n",
              "</style>\n",
              "\n",
              "      <script>\n",
              "        async function quickchart(key) {\n",
              "          const quickchartButtonEl =\n",
              "            document.querySelector('#' + key + ' button');\n",
              "          quickchartButtonEl.disabled = true;  // To prevent multiple clicks.\n",
              "          quickchartButtonEl.classList.add('colab-df-spinner');\n",
              "          try {\n",
              "            const charts = await google.colab.kernel.invokeFunction(\n",
              "                'suggestCharts', [key], {});\n",
              "          } catch (error) {\n",
              "            console.error('Error during call to suggestCharts:', error);\n",
              "          }\n",
              "          quickchartButtonEl.classList.remove('colab-df-spinner');\n",
              "          quickchartButtonEl.classList.add('colab-df-quickchart-complete');\n",
              "        }\n",
              "        (() => {\n",
              "          let quickchartButtonEl =\n",
              "            document.querySelector('#df-54357f6c-195d-44a1-89ad-9e615fc1acd7 button');\n",
              "          quickchartButtonEl.style.display =\n",
              "            google.colab.kernel.accessAllowed ? 'block' : 'none';\n",
              "        })();\n",
              "      </script>\n",
              "    </div>\n",
              "\n",
              "  <div id=\"id_a6516a35-842d-4694-b59f-d7cc656a4f18\">\n",
              "    <style>\n",
              "      .colab-df-generate {\n",
              "        background-color: #E8F0FE;\n",
              "        border: none;\n",
              "        border-radius: 50%;\n",
              "        cursor: pointer;\n",
              "        display: none;\n",
              "        fill: #1967D2;\n",
              "        height: 32px;\n",
              "        padding: 0 0 0 0;\n",
              "        width: 32px;\n",
              "      }\n",
              "\n",
              "      .colab-df-generate:hover {\n",
              "        background-color: #E2EBFA;\n",
              "        box-shadow: 0px 1px 2px rgba(60, 64, 67, 0.3), 0px 1px 3px 1px rgba(60, 64, 67, 0.15);\n",
              "        fill: #174EA6;\n",
              "      }\n",
              "\n",
              "      [theme=dark] .colab-df-generate {\n",
              "        background-color: #3B4455;\n",
              "        fill: #D2E3FC;\n",
              "      }\n",
              "\n",
              "      [theme=dark] .colab-df-generate:hover {\n",
              "        background-color: #434B5C;\n",
              "        box-shadow: 0px 1px 3px 1px rgba(0, 0, 0, 0.15);\n",
              "        filter: drop-shadow(0px 1px 2px rgba(0, 0, 0, 0.3));\n",
              "        fill: #FFFFFF;\n",
              "      }\n",
              "    </style>\n",
              "    <button class=\"colab-df-generate\" onclick=\"generateWithVariable('train_df')\"\n",
              "            title=\"Generate code using this dataframe.\"\n",
              "            style=\"display:none;\">\n",
              "\n",
              "  <svg xmlns=\"http://www.w3.org/2000/svg\" height=\"24px\"viewBox=\"0 0 24 24\"\n",
              "       width=\"24px\">\n",
              "    <path d=\"M7,19H8.4L18.45,9,17,7.55,7,17.6ZM5,21V16.75L18.45,3.32a2,2,0,0,1,2.83,0l1.4,1.43a1.91,1.91,0,0,1,.58,1.4,1.91,1.91,0,0,1-.58,1.4L9.25,21ZM18.45,9,17,7.55Zm-12,3A5.31,5.31,0,0,0,4.9,8.1,5.31,5.31,0,0,0,1,6.5,5.31,5.31,0,0,0,4.9,4.9,5.31,5.31,0,0,0,6.5,1,5.31,5.31,0,0,0,8.1,4.9,5.31,5.31,0,0,0,12,6.5,5.46,5.46,0,0,0,6.5,12Z\"/>\n",
              "  </svg>\n",
              "    </button>\n",
              "    <script>\n",
              "      (() => {\n",
              "      const buttonEl =\n",
              "        document.querySelector('#id_a6516a35-842d-4694-b59f-d7cc656a4f18 button.colab-df-generate');\n",
              "      buttonEl.style.display =\n",
              "        google.colab.kernel.accessAllowed ? 'block' : 'none';\n",
              "\n",
              "      buttonEl.onclick = () => {\n",
              "        google.colab.notebook.generateWithVariable('train_df');\n",
              "      }\n",
              "      })();\n",
              "    </script>\n",
              "  </div>\n",
              "\n",
              "    </div>\n",
              "  </div>\n"
            ],
            "application/vnd.google.colaboratory.intrinsic+json": {
              "type": "dataframe",
              "variable_name": "train_df",
              "summary": "{\n  \"name\": \"train_df\",\n  \"rows\": 58550,\n  \"fields\": [\n    {\n      \"column\": \"devanagari\",\n      \"properties\": {\n        \"dtype\": \"category\",\n        \"num_unique_values\": 25000,\n        \"samples\": [\n          \"\\u0c1a\\u0c1f\\u0c4d\\u0c1f\\u0c35\\u0c4d\\u0c2f\\u0c24\\u0c3f\\u0c30\\u0c47\\u0c15\",\n          \"\\u0c38\\u0c42\\u0c1a\\u0c28\\u0c32\\u0c24\\u0c4b\",\n          \"\\u0c24\\u0c46\\u0c32\\u0c3f\\u0c38\\u0c3f\\u0c28\\u0c35\\u0c3e\\u0c21\\u0c41\"\n        ],\n        \"semantic_type\": \"\",\n        \"description\": \"\"\n      }\n    },\n    {\n      \"column\": \"latin\",\n      \"properties\": {\n        \"dtype\": \"string\",\n        \"num_unique_values\": 57316,\n        \"samples\": [\n          \"pensylvania\",\n          \"rikardula\",\n          \"koravi\"\n        ],\n        \"semantic_type\": \"\",\n        \"description\": \"\"\n      }\n    },\n    {\n      \"column\": \"serial\",\n      \"properties\": {\n        \"dtype\": \"number\",\n        \"std\": 0,\n        \"min\": 1,\n        \"max\": 9,\n        \"num_unique_values\": 9,\n        \"samples\": [\n          5,\n          2,\n          9\n        ],\n        \"semantic_type\": \"\",\n        \"description\": \"\"\n      }\n    }\n  ]\n}"
            }
          },
          "metadata": {},
          "execution_count": 46
        }
      ],
      "source": [
        "# Transliteration system\n",
        "\n",
        "import pandas as pd\n",
        "import numpy as np\n",
        "\n",
        "train_df= pd.read_csv('te.translit.sampled.train.tsv',sep='\\t',header=None)\n",
        "train_df.columns = ['devanagari','latin','serial']\n",
        "train_df"
      ]
    },
    {
      "cell_type": "code",
      "source": [
        "seq=train_df['latin'][0]\n",
        "seq"
      ],
      "metadata": {
        "colab": {
          "base_uri": "https://localhost:8080/",
          "height": 35
        },
        "id": "j45THqQv5PUg",
        "outputId": "ca4e962c-2641-49f6-90b6-aef484245ef8"
      },
      "execution_count": 47,
      "outputs": [
        {
          "output_type": "execute_result",
          "data": {
            "text/plain": [
              "'amkita'"
            ],
            "application/vnd.google.colaboratory.intrinsic+json": {
              "type": "string"
            }
          },
          "metadata": {},
          "execution_count": 47
        }
      ]
    },
    {
      "cell_type": "code",
      "source": [
        "list(seq)\n",
        "v=set()\n",
        "print(v)\n",
        "v.update(list(seq))\n",
        "sorted(list(v))"
      ],
      "metadata": {
        "colab": {
          "base_uri": "https://localhost:8080/"
        },
        "id": "oDmvh8hL7GqD",
        "outputId": "4c1ef31b-3540-4894-d576-2b8991c6e550"
      },
      "execution_count": 48,
      "outputs": [
        {
          "output_type": "stream",
          "name": "stdout",
          "text": [
            "set()\n"
          ]
        },
        {
          "output_type": "execute_result",
          "data": {
            "text/plain": [
              "['a', 'i', 'k', 'm', 't']"
            ]
          },
          "metadata": {},
          "execution_count": 48
        }
      ]
    },
    {
      "cell_type": "code",
      "source": [
        "#Vocab dictionaries\n",
        "train_df=train_df.dropna()\n",
        "\n",
        "def build_vocab(sequences):\n",
        "    vocab = set()\n",
        "    for seq in sequences:\n",
        "        vocab.update(list(seq))\n",
        "    vocab = sorted(list(vocab))\n",
        "    vocab = ['<pad>', '<sos>', '<eos>'] + vocab  # special tokens\n",
        "    char2idx = {ch: idx for idx, ch in enumerate(vocab)}\n",
        "    idx2char = {idx: ch for ch, idx in char2idx.items()}\n",
        "    return char2idx, idx2char\n",
        "\n",
        "input_char2idx, input_idx2char = build_vocab(train_df[\"latin\"])\n",
        "target_char2idx, target_idx2char = build_vocab(train_df[\"devanagari\"])\n",
        "\n",
        "print(\"Input vocab size:\", len(input_char2idx))\n",
        "print(\"Target vocab size:\", len(target_char2idx))"
      ],
      "metadata": {
        "colab": {
          "base_uri": "https://localhost:8080/"
        },
        "id": "vbYDZGUz0DHA",
        "outputId": "20463577-a82a-45e7-9341-6381f2ed78f2"
      },
      "execution_count": 49,
      "outputs": [
        {
          "output_type": "stream",
          "name": "stdout",
          "text": [
            "Input vocab size: 29\n",
            "Target vocab size: 66\n"
          ]
        }
      ]
    },
    {
      "cell_type": "code",
      "source": [
        "input_char2idx"
      ],
      "metadata": {
        "colab": {
          "base_uri": "https://localhost:8080/"
        },
        "id": "QcoeYhIZBLa6",
        "outputId": "c1d330f9-6b97-4abf-a91b-d5880f2585bf"
      },
      "execution_count": 50,
      "outputs": [
        {
          "output_type": "execute_result",
          "data": {
            "text/plain": [
              "{'<pad>': 0,\n",
              " '<sos>': 1,\n",
              " '<eos>': 2,\n",
              " 'a': 3,\n",
              " 'b': 4,\n",
              " 'c': 5,\n",
              " 'd': 6,\n",
              " 'e': 7,\n",
              " 'f': 8,\n",
              " 'g': 9,\n",
              " 'h': 10,\n",
              " 'i': 11,\n",
              " 'j': 12,\n",
              " 'k': 13,\n",
              " 'l': 14,\n",
              " 'm': 15,\n",
              " 'n': 16,\n",
              " 'o': 17,\n",
              " 'p': 18,\n",
              " 'q': 19,\n",
              " 'r': 20,\n",
              " 's': 21,\n",
              " 't': 22,\n",
              " 'u': 23,\n",
              " 'v': 24,\n",
              " 'w': 25,\n",
              " 'x': 26,\n",
              " 'y': 27,\n",
              " 'z': 28}"
            ]
          },
          "metadata": {},
          "execution_count": 50
        }
      ]
    },
    {
      "cell_type": "code",
      "source": [
        "target_char2idx"
      ],
      "metadata": {
        "colab": {
          "base_uri": "https://localhost:8080/"
        },
        "id": "B6-0Qwe296Vc",
        "outputId": "c64a17af-d25b-4a93-c196-fcf6fdaec6a5"
      },
      "execution_count": 51,
      "outputs": [
        {
          "output_type": "execute_result",
          "data": {
            "text/plain": [
              "{'<pad>': 0,\n",
              " '<sos>': 1,\n",
              " '<eos>': 2,\n",
              " 'ం': 3,\n",
              " 'ః': 4,\n",
              " 'అ': 5,\n",
              " 'ఆ': 6,\n",
              " 'ఇ': 7,\n",
              " 'ఈ': 8,\n",
              " 'ఉ': 9,\n",
              " 'ఊ': 10,\n",
              " 'ఋ': 11,\n",
              " 'ఎ': 12,\n",
              " 'ఏ': 13,\n",
              " 'ఐ': 14,\n",
              " 'ఒ': 15,\n",
              " 'ఓ': 16,\n",
              " 'ఔ': 17,\n",
              " 'క': 18,\n",
              " 'ఖ': 19,\n",
              " 'గ': 20,\n",
              " 'ఘ': 21,\n",
              " 'చ': 22,\n",
              " 'ఛ': 23,\n",
              " 'జ': 24,\n",
              " 'ఝ': 25,\n",
              " 'ఞ': 26,\n",
              " 'ట': 27,\n",
              " 'ఠ': 28,\n",
              " 'డ': 29,\n",
              " 'ఢ': 30,\n",
              " 'ణ': 31,\n",
              " 'త': 32,\n",
              " 'థ': 33,\n",
              " 'ద': 34,\n",
              " 'ధ': 35,\n",
              " 'న': 36,\n",
              " 'ప': 37,\n",
              " 'ఫ': 38,\n",
              " 'బ': 39,\n",
              " 'భ': 40,\n",
              " 'మ': 41,\n",
              " 'య': 42,\n",
              " 'ర': 43,\n",
              " 'ఱ': 44,\n",
              " 'ల': 45,\n",
              " 'ళ': 46,\n",
              " 'వ': 47,\n",
              " 'శ': 48,\n",
              " 'ష': 49,\n",
              " 'స': 50,\n",
              " 'హ': 51,\n",
              " 'ా': 52,\n",
              " 'ి': 53,\n",
              " 'ీ': 54,\n",
              " 'ు': 55,\n",
              " 'ూ': 56,\n",
              " 'ృ': 57,\n",
              " 'ె': 58,\n",
              " 'ే': 59,\n",
              " 'ై': 60,\n",
              " 'ొ': 61,\n",
              " 'ో': 62,\n",
              " 'ౌ': 63,\n",
              " '్': 64,\n",
              " '\\u200c': 65}"
            ]
          },
          "metadata": {},
          "execution_count": 51
        }
      ]
    },
    {
      "cell_type": "code",
      "source": [
        "# vectorial representations of letters\n",
        "\n",
        "def encode_sentence(sentence, char2idx, max_len, is_target=False):\n",
        "    tokens = [char2idx[c] for c in sentence]\n",
        "    if is_target:\n",
        "        tokens = [char2idx[\"<sos>\"]] + tokens + [char2idx[\"<eos>\"]]\n",
        "    return tokens + [char2idx[\"<pad>\"]] * (max_len - len(tokens))\n",
        "\n",
        "# Compute max lengths\n",
        "max_encoder_seq_length = max(len(x) for x in train_df[\"latin\"])\n",
        "max_decoder_seq_length = max(len(y) for y in train_df[\"devanagari\"]) + 2  # for <sos> and <eos>\n",
        "\n",
        "print(max_encoder_seq_length)\n",
        "print(max_decoder_seq_length)"
      ],
      "metadata": {
        "colab": {
          "base_uri": "https://localhost:8080/"
        },
        "id": "hHvKVX-o-MUW",
        "outputId": "6de3f6bd-f28f-439f-c814-dc1d350ed90e"
      },
      "execution_count": 54,
      "outputs": [
        {
          "output_type": "stream",
          "name": "stdout",
          "text": [
            "25\n",
            "22\n"
          ]
        }
      ]
    },
    {
      "cell_type": "code",
      "source": [
        "Embedding lookup\n",
        "\n",
        "Encoder RNN forward steps\n",
        "\n",
        "Decoder RNN steps\n",
        "\n",
        "Output projection and softmax\n",
        "\n"
      ],
      "metadata": {
        "id": "cXfnX1l7FNed"
      },
      "execution_count": null,
      "outputs": []
    },
    {
      "cell_type": "code",
      "source": [
        "for i in range(10):\n",
        "  print(len(train_df['latin'][i]))"
      ],
      "metadata": {
        "colab": {
          "base_uri": "https://localhost:8080/"
        },
        "id": "iRDofd6rBs8c",
        "outputId": "44076d5d-6c9b-47da-c9b1-d909d1110c91"
      },
      "execution_count": 53,
      "outputs": [
        {
          "output_type": "stream",
          "name": "stdout",
          "text": [
            "6\n",
            "6\n",
            "7\n",
            "7\n",
            "8\n",
            "12\n",
            "13\n",
            "15\n",
            "14\n",
            "15\n"
          ]
        }
      ]
    }
  ]
}