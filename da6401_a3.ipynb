{
  "nbformat": 4,
  "nbformat_minor": 0,
  "metadata": {
    "colab": {
      "provenance": [],
      "authorship_tag": "ABX9TyOrUIPBW1CCSP3ULrGAUjyR",
      "include_colab_link": true
    },
    "kernelspec": {
      "name": "python3",
      "display_name": "Python 3"
    },
    "language_info": {
      "name": "python"
    }
  },
  "cells": [
    {
      "cell_type": "markdown",
      "metadata": {
        "id": "view-in-github",
        "colab_type": "text"
      },
      "source": [
        "<a href=\"https://colab.research.google.com/github/bs21b038/assignment2data/blob/main/da6401_a3.ipynb\" target=\"_parent\"><img src=\"https://colab.research.google.com/assets/colab-badge.svg\" alt=\"Open In Colab\"/></a>"
      ]
    },
    {
      "cell_type": "code",
      "execution_count": 4,
      "metadata": {
        "colab": {
          "base_uri": "https://localhost:8080/",
          "height": 424
        },
        "id": "U-kT4v98NTrh",
        "outputId": "34de3672-2af8-4254-d78f-327d93f583d8"
      },
      "outputs": [
        {
          "output_type": "execute_result",
          "data": {
            "text/plain": [
              "     devanagari          latin  serial\n",
              "0           అంక           amka       1\n",
              "1           అంక           anka       3\n",
              "2          అంకం          amkam       1\n",
              "3          అంకం          ankam       2\n",
              "4     అంగీకరించ  amgiikarimcha       1\n",
              "...         ...            ...     ...\n",
              "5678     హోమియో       hoemiyoe       1\n",
              "5679     హోమియో         homeyo       1\n",
              "5680   హోమేరిక్        homaric       1\n",
              "5681   హోమేరిక్        homeric       1\n",
              "5682   హోమేరిక్        homerik       1\n",
              "\n",
              "[5683 rows x 3 columns]"
            ],
            "text/html": [
              "\n",
              "  <div id=\"df-1770622e-1302-490d-90a8-851e36ae32e7\" class=\"colab-df-container\">\n",
              "    <div>\n",
              "<style scoped>\n",
              "    .dataframe tbody tr th:only-of-type {\n",
              "        vertical-align: middle;\n",
              "    }\n",
              "\n",
              "    .dataframe tbody tr th {\n",
              "        vertical-align: top;\n",
              "    }\n",
              "\n",
              "    .dataframe thead th {\n",
              "        text-align: right;\n",
              "    }\n",
              "</style>\n",
              "<table border=\"1\" class=\"dataframe\">\n",
              "  <thead>\n",
              "    <tr style=\"text-align: right;\">\n",
              "      <th></th>\n",
              "      <th>devanagari</th>\n",
              "      <th>latin</th>\n",
              "      <th>serial</th>\n",
              "    </tr>\n",
              "  </thead>\n",
              "  <tbody>\n",
              "    <tr>\n",
              "      <th>0</th>\n",
              "      <td>అంక</td>\n",
              "      <td>amka</td>\n",
              "      <td>1</td>\n",
              "    </tr>\n",
              "    <tr>\n",
              "      <th>1</th>\n",
              "      <td>అంక</td>\n",
              "      <td>anka</td>\n",
              "      <td>3</td>\n",
              "    </tr>\n",
              "    <tr>\n",
              "      <th>2</th>\n",
              "      <td>అంకం</td>\n",
              "      <td>amkam</td>\n",
              "      <td>1</td>\n",
              "    </tr>\n",
              "    <tr>\n",
              "      <th>3</th>\n",
              "      <td>అంకం</td>\n",
              "      <td>ankam</td>\n",
              "      <td>2</td>\n",
              "    </tr>\n",
              "    <tr>\n",
              "      <th>4</th>\n",
              "      <td>అంగీకరించ</td>\n",
              "      <td>amgiikarimcha</td>\n",
              "      <td>1</td>\n",
              "    </tr>\n",
              "    <tr>\n",
              "      <th>...</th>\n",
              "      <td>...</td>\n",
              "      <td>...</td>\n",
              "      <td>...</td>\n",
              "    </tr>\n",
              "    <tr>\n",
              "      <th>5678</th>\n",
              "      <td>హోమియో</td>\n",
              "      <td>hoemiyoe</td>\n",
              "      <td>1</td>\n",
              "    </tr>\n",
              "    <tr>\n",
              "      <th>5679</th>\n",
              "      <td>హోమియో</td>\n",
              "      <td>homeyo</td>\n",
              "      <td>1</td>\n",
              "    </tr>\n",
              "    <tr>\n",
              "      <th>5680</th>\n",
              "      <td>హోమేరిక్</td>\n",
              "      <td>homaric</td>\n",
              "      <td>1</td>\n",
              "    </tr>\n",
              "    <tr>\n",
              "      <th>5681</th>\n",
              "      <td>హోమేరిక్</td>\n",
              "      <td>homeric</td>\n",
              "      <td>1</td>\n",
              "    </tr>\n",
              "    <tr>\n",
              "      <th>5682</th>\n",
              "      <td>హోమేరిక్</td>\n",
              "      <td>homerik</td>\n",
              "      <td>1</td>\n",
              "    </tr>\n",
              "  </tbody>\n",
              "</table>\n",
              "<p>5683 rows × 3 columns</p>\n",
              "</div>\n",
              "    <div class=\"colab-df-buttons\">\n",
              "\n",
              "  <div class=\"colab-df-container\">\n",
              "    <button class=\"colab-df-convert\" onclick=\"convertToInteractive('df-1770622e-1302-490d-90a8-851e36ae32e7')\"\n",
              "            title=\"Convert this dataframe to an interactive table.\"\n",
              "            style=\"display:none;\">\n",
              "\n",
              "  <svg xmlns=\"http://www.w3.org/2000/svg\" height=\"24px\" viewBox=\"0 -960 960 960\">\n",
              "    <path d=\"M120-120v-720h720v720H120Zm60-500h600v-160H180v160Zm220 220h160v-160H400v160Zm0 220h160v-160H400v160ZM180-400h160v-160H180v160Zm440 0h160v-160H620v160ZM180-180h160v-160H180v160Zm440 0h160v-160H620v160Z\"/>\n",
              "  </svg>\n",
              "    </button>\n",
              "\n",
              "  <style>\n",
              "    .colab-df-container {\n",
              "      display:flex;\n",
              "      gap: 12px;\n",
              "    }\n",
              "\n",
              "    .colab-df-convert {\n",
              "      background-color: #E8F0FE;\n",
              "      border: none;\n",
              "      border-radius: 50%;\n",
              "      cursor: pointer;\n",
              "      display: none;\n",
              "      fill: #1967D2;\n",
              "      height: 32px;\n",
              "      padding: 0 0 0 0;\n",
              "      width: 32px;\n",
              "    }\n",
              "\n",
              "    .colab-df-convert:hover {\n",
              "      background-color: #E2EBFA;\n",
              "      box-shadow: 0px 1px 2px rgba(60, 64, 67, 0.3), 0px 1px 3px 1px rgba(60, 64, 67, 0.15);\n",
              "      fill: #174EA6;\n",
              "    }\n",
              "\n",
              "    .colab-df-buttons div {\n",
              "      margin-bottom: 4px;\n",
              "    }\n",
              "\n",
              "    [theme=dark] .colab-df-convert {\n",
              "      background-color: #3B4455;\n",
              "      fill: #D2E3FC;\n",
              "    }\n",
              "\n",
              "    [theme=dark] .colab-df-convert:hover {\n",
              "      background-color: #434B5C;\n",
              "      box-shadow: 0px 1px 3px 1px rgba(0, 0, 0, 0.15);\n",
              "      filter: drop-shadow(0px 1px 2px rgba(0, 0, 0, 0.3));\n",
              "      fill: #FFFFFF;\n",
              "    }\n",
              "  </style>\n",
              "\n",
              "    <script>\n",
              "      const buttonEl =\n",
              "        document.querySelector('#df-1770622e-1302-490d-90a8-851e36ae32e7 button.colab-df-convert');\n",
              "      buttonEl.style.display =\n",
              "        google.colab.kernel.accessAllowed ? 'block' : 'none';\n",
              "\n",
              "      async function convertToInteractive(key) {\n",
              "        const element = document.querySelector('#df-1770622e-1302-490d-90a8-851e36ae32e7');\n",
              "        const dataTable =\n",
              "          await google.colab.kernel.invokeFunction('convertToInteractive',\n",
              "                                                    [key], {});\n",
              "        if (!dataTable) return;\n",
              "\n",
              "        const docLinkHtml = 'Like what you see? Visit the ' +\n",
              "          '<a target=\"_blank\" href=https://colab.research.google.com/notebooks/data_table.ipynb>data table notebook</a>'\n",
              "          + ' to learn more about interactive tables.';\n",
              "        element.innerHTML = '';\n",
              "        dataTable['output_type'] = 'display_data';\n",
              "        await google.colab.output.renderOutput(dataTable, element);\n",
              "        const docLink = document.createElement('div');\n",
              "        docLink.innerHTML = docLinkHtml;\n",
              "        element.appendChild(docLink);\n",
              "      }\n",
              "    </script>\n",
              "  </div>\n",
              "\n",
              "\n",
              "    <div id=\"df-022fb992-247c-4373-a7a8-849d37987e72\">\n",
              "      <button class=\"colab-df-quickchart\" onclick=\"quickchart('df-022fb992-247c-4373-a7a8-849d37987e72')\"\n",
              "                title=\"Suggest charts\"\n",
              "                style=\"display:none;\">\n",
              "\n",
              "<svg xmlns=\"http://www.w3.org/2000/svg\" height=\"24px\"viewBox=\"0 0 24 24\"\n",
              "     width=\"24px\">\n",
              "    <g>\n",
              "        <path d=\"M19 3H5c-1.1 0-2 .9-2 2v14c0 1.1.9 2 2 2h14c1.1 0 2-.9 2-2V5c0-1.1-.9-2-2-2zM9 17H7v-7h2v7zm4 0h-2V7h2v10zm4 0h-2v-4h2v4z\"/>\n",
              "    </g>\n",
              "</svg>\n",
              "      </button>\n",
              "\n",
              "<style>\n",
              "  .colab-df-quickchart {\n",
              "      --bg-color: #E8F0FE;\n",
              "      --fill-color: #1967D2;\n",
              "      --hover-bg-color: #E2EBFA;\n",
              "      --hover-fill-color: #174EA6;\n",
              "      --disabled-fill-color: #AAA;\n",
              "      --disabled-bg-color: #DDD;\n",
              "  }\n",
              "\n",
              "  [theme=dark] .colab-df-quickchart {\n",
              "      --bg-color: #3B4455;\n",
              "      --fill-color: #D2E3FC;\n",
              "      --hover-bg-color: #434B5C;\n",
              "      --hover-fill-color: #FFFFFF;\n",
              "      --disabled-bg-color: #3B4455;\n",
              "      --disabled-fill-color: #666;\n",
              "  }\n",
              "\n",
              "  .colab-df-quickchart {\n",
              "    background-color: var(--bg-color);\n",
              "    border: none;\n",
              "    border-radius: 50%;\n",
              "    cursor: pointer;\n",
              "    display: none;\n",
              "    fill: var(--fill-color);\n",
              "    height: 32px;\n",
              "    padding: 0;\n",
              "    width: 32px;\n",
              "  }\n",
              "\n",
              "  .colab-df-quickchart:hover {\n",
              "    background-color: var(--hover-bg-color);\n",
              "    box-shadow: 0 1px 2px rgba(60, 64, 67, 0.3), 0 1px 3px 1px rgba(60, 64, 67, 0.15);\n",
              "    fill: var(--button-hover-fill-color);\n",
              "  }\n",
              "\n",
              "  .colab-df-quickchart-complete:disabled,\n",
              "  .colab-df-quickchart-complete:disabled:hover {\n",
              "    background-color: var(--disabled-bg-color);\n",
              "    fill: var(--disabled-fill-color);\n",
              "    box-shadow: none;\n",
              "  }\n",
              "\n",
              "  .colab-df-spinner {\n",
              "    border: 2px solid var(--fill-color);\n",
              "    border-color: transparent;\n",
              "    border-bottom-color: var(--fill-color);\n",
              "    animation:\n",
              "      spin 1s steps(1) infinite;\n",
              "  }\n",
              "\n",
              "  @keyframes spin {\n",
              "    0% {\n",
              "      border-color: transparent;\n",
              "      border-bottom-color: var(--fill-color);\n",
              "      border-left-color: var(--fill-color);\n",
              "    }\n",
              "    20% {\n",
              "      border-color: transparent;\n",
              "      border-left-color: var(--fill-color);\n",
              "      border-top-color: var(--fill-color);\n",
              "    }\n",
              "    30% {\n",
              "      border-color: transparent;\n",
              "      border-left-color: var(--fill-color);\n",
              "      border-top-color: var(--fill-color);\n",
              "      border-right-color: var(--fill-color);\n",
              "    }\n",
              "    40% {\n",
              "      border-color: transparent;\n",
              "      border-right-color: var(--fill-color);\n",
              "      border-top-color: var(--fill-color);\n",
              "    }\n",
              "    60% {\n",
              "      border-color: transparent;\n",
              "      border-right-color: var(--fill-color);\n",
              "    }\n",
              "    80% {\n",
              "      border-color: transparent;\n",
              "      border-right-color: var(--fill-color);\n",
              "      border-bottom-color: var(--fill-color);\n",
              "    }\n",
              "    90% {\n",
              "      border-color: transparent;\n",
              "      border-bottom-color: var(--fill-color);\n",
              "    }\n",
              "  }\n",
              "</style>\n",
              "\n",
              "      <script>\n",
              "        async function quickchart(key) {\n",
              "          const quickchartButtonEl =\n",
              "            document.querySelector('#' + key + ' button');\n",
              "          quickchartButtonEl.disabled = true;  // To prevent multiple clicks.\n",
              "          quickchartButtonEl.classList.add('colab-df-spinner');\n",
              "          try {\n",
              "            const charts = await google.colab.kernel.invokeFunction(\n",
              "                'suggestCharts', [key], {});\n",
              "          } catch (error) {\n",
              "            console.error('Error during call to suggestCharts:', error);\n",
              "          }\n",
              "          quickchartButtonEl.classList.remove('colab-df-spinner');\n",
              "          quickchartButtonEl.classList.add('colab-df-quickchart-complete');\n",
              "        }\n",
              "        (() => {\n",
              "          let quickchartButtonEl =\n",
              "            document.querySelector('#df-022fb992-247c-4373-a7a8-849d37987e72 button');\n",
              "          quickchartButtonEl.style.display =\n",
              "            google.colab.kernel.accessAllowed ? 'block' : 'none';\n",
              "        })();\n",
              "      </script>\n",
              "    </div>\n",
              "\n",
              "  <div id=\"id_5da9198a-06ad-4650-a411-310183802cc3\">\n",
              "    <style>\n",
              "      .colab-df-generate {\n",
              "        background-color: #E8F0FE;\n",
              "        border: none;\n",
              "        border-radius: 50%;\n",
              "        cursor: pointer;\n",
              "        display: none;\n",
              "        fill: #1967D2;\n",
              "        height: 32px;\n",
              "        padding: 0 0 0 0;\n",
              "        width: 32px;\n",
              "      }\n",
              "\n",
              "      .colab-df-generate:hover {\n",
              "        background-color: #E2EBFA;\n",
              "        box-shadow: 0px 1px 2px rgba(60, 64, 67, 0.3), 0px 1px 3px 1px rgba(60, 64, 67, 0.15);\n",
              "        fill: #174EA6;\n",
              "      }\n",
              "\n",
              "      [theme=dark] .colab-df-generate {\n",
              "        background-color: #3B4455;\n",
              "        fill: #D2E3FC;\n",
              "      }\n",
              "\n",
              "      [theme=dark] .colab-df-generate:hover {\n",
              "        background-color: #434B5C;\n",
              "        box-shadow: 0px 1px 3px 1px rgba(0, 0, 0, 0.15);\n",
              "        filter: drop-shadow(0px 1px 2px rgba(0, 0, 0, 0.3));\n",
              "        fill: #FFFFFF;\n",
              "      }\n",
              "    </style>\n",
              "    <button class=\"colab-df-generate\" onclick=\"generateWithVariable('dev_df')\"\n",
              "            title=\"Generate code using this dataframe.\"\n",
              "            style=\"display:none;\">\n",
              "\n",
              "  <svg xmlns=\"http://www.w3.org/2000/svg\" height=\"24px\"viewBox=\"0 0 24 24\"\n",
              "       width=\"24px\">\n",
              "    <path d=\"M7,19H8.4L18.45,9,17,7.55,7,17.6ZM5,21V16.75L18.45,3.32a2,2,0,0,1,2.83,0l1.4,1.43a1.91,1.91,0,0,1,.58,1.4,1.91,1.91,0,0,1-.58,1.4L9.25,21ZM18.45,9,17,7.55Zm-12,3A5.31,5.31,0,0,0,4.9,8.1,5.31,5.31,0,0,0,1,6.5,5.31,5.31,0,0,0,4.9,4.9,5.31,5.31,0,0,0,6.5,1,5.31,5.31,0,0,0,8.1,4.9,5.31,5.31,0,0,0,12,6.5,5.46,5.46,0,0,0,6.5,12Z\"/>\n",
              "  </svg>\n",
              "    </button>\n",
              "    <script>\n",
              "      (() => {\n",
              "      const buttonEl =\n",
              "        document.querySelector('#id_5da9198a-06ad-4650-a411-310183802cc3 button.colab-df-generate');\n",
              "      buttonEl.style.display =\n",
              "        google.colab.kernel.accessAllowed ? 'block' : 'none';\n",
              "\n",
              "      buttonEl.onclick = () => {\n",
              "        google.colab.notebook.generateWithVariable('dev_df');\n",
              "      }\n",
              "      })();\n",
              "    </script>\n",
              "  </div>\n",
              "\n",
              "    </div>\n",
              "  </div>\n"
            ],
            "application/vnd.google.colaboratory.intrinsic+json": {
              "type": "dataframe",
              "variable_name": "dev_df",
              "summary": "{\n  \"name\": \"dev_df\",\n  \"rows\": 5683,\n  \"fields\": [\n    {\n      \"column\": \"devanagari\",\n      \"properties\": {\n        \"dtype\": \"category\",\n        \"num_unique_values\": 2500,\n        \"samples\": [\n          \"\\u0c2a\\u0c4b\\u0c37\\u0c3f\\u0c38\\u0c4d\\u0c24\\u0c42\",\n          \"\\u0c27\\u0c48\\u0c30\\u0c4d\\u0c2f\\u0c02\\u0c24\\u0c4b\",\n          \"\\u0c26\\u0c42\\u0c26\\u0c47\\u0c15\\u0c41\\u0c32\"\n        ],\n        \"semantic_type\": \"\",\n        \"description\": \"\"\n      }\n    },\n    {\n      \"column\": \"latin\",\n      \"properties\": {\n        \"dtype\": \"string\",\n        \"num_unique_values\": 5664,\n        \"samples\": [\n          \"andhrulaku\",\n          \"bhavanamlo\",\n          \"adharalu\"\n        ],\n        \"semantic_type\": \"\",\n        \"description\": \"\"\n      }\n    },\n    {\n      \"column\": \"serial\",\n      \"properties\": {\n        \"dtype\": \"number\",\n        \"std\": 0,\n        \"min\": 1,\n        \"max\": 4,\n        \"num_unique_values\": 4,\n        \"samples\": [\n          3,\n          4,\n          1\n        ],\n        \"semantic_type\": \"\",\n        \"description\": \"\"\n      }\n    }\n  ]\n}"
            }
          },
          "metadata": {},
          "execution_count": 4
        }
      ],
      "source": [
        "# Transliteration system\n",
        "\n",
        "import pandas as pd\n",
        "import numpy as np\n",
        "\n",
        "train_df= pd.read_csv('te.translit.sampled.train.tsv',sep='\\t',header=None)\n",
        "train_df.columns = ['devanagari','latin','serial']\n",
        "train_df\n",
        "\n",
        "\n",
        "dev_df= pd.read_csv('te.translit.sampled.dev.tsv',sep='\\t',header=None)\n",
        "dev_df.columns = ['devanagari','latin','serial']\n",
        "dev_df"
      ]
    },
    {
      "cell_type": "code",
      "source": [
        "seq=train_df['latin'][0]\n",
        "seq"
      ],
      "metadata": {
        "colab": {
          "base_uri": "https://localhost:8080/",
          "height": 35
        },
        "id": "j45THqQv5PUg",
        "outputId": "82525d6c-a9b8-4cd5-f544-66a747989a6e"
      },
      "execution_count": 5,
      "outputs": [
        {
          "output_type": "execute_result",
          "data": {
            "text/plain": [
              "'amkita'"
            ],
            "application/vnd.google.colaboratory.intrinsic+json": {
              "type": "string"
            }
          },
          "metadata": {},
          "execution_count": 5
        }
      ]
    },
    {
      "cell_type": "code",
      "source": [
        "list(seq)\n",
        "v=set()\n",
        "print(v)\n",
        "v.update(list(seq))\n",
        "sorted(list(v))"
      ],
      "metadata": {
        "colab": {
          "base_uri": "https://localhost:8080/"
        },
        "id": "oDmvh8hL7GqD",
        "outputId": "0d1a8f1e-b6e2-4319-c51c-0e4e32d37ad7"
      },
      "execution_count": 6,
      "outputs": [
        {
          "output_type": "stream",
          "name": "stdout",
          "text": [
            "set()\n"
          ]
        },
        {
          "output_type": "execute_result",
          "data": {
            "text/plain": [
              "['a', 'i', 'k', 'm', 't']"
            ]
          },
          "metadata": {},
          "execution_count": 6
        }
      ]
    },
    {
      "cell_type": "code",
      "source": [
        "#Vocab dictionaries\n",
        "train_df=train_df.dropna()\n",
        "\n",
        "def build_vocab(sequences):\n",
        "    vocab = set()\n",
        "    for seq in sequences:\n",
        "        vocab.update(list(seq))\n",
        "    vocab = sorted(list(vocab))\n",
        "    vocab = ['<pad>', '<sos>', '<eos>'] + vocab  # special tokens\n",
        "    char2idx = {ch: idx for idx, ch in enumerate(vocab)}\n",
        "    idx2char = {idx: ch for ch, idx in char2idx.items()}\n",
        "    return char2idx, idx2char\n",
        "\n",
        "input_char2idx, input_idx2char = build_vocab(train_df[\"latin\"])\n",
        "target_char2idx, target_idx2char = build_vocab(train_df[\"devanagari\"])\n",
        "\n",
        "print(\"Input vocab size:\", len(input_char2idx))\n",
        "print(\"Target vocab size:\", len(target_char2idx))"
      ],
      "metadata": {
        "colab": {
          "base_uri": "https://localhost:8080/"
        },
        "id": "vbYDZGUz0DHA",
        "outputId": "810e3535-2d64-4f53-ada2-049c90b23166"
      },
      "execution_count": 7,
      "outputs": [
        {
          "output_type": "stream",
          "name": "stdout",
          "text": [
            "Input vocab size: 29\n",
            "Target vocab size: 66\n"
          ]
        }
      ]
    },
    {
      "cell_type": "code",
      "source": [
        "input_char2idx"
      ],
      "metadata": {
        "colab": {
          "base_uri": "https://localhost:8080/"
        },
        "id": "QcoeYhIZBLa6",
        "outputId": "ed64fea7-a985-49be-e477-678076624a30"
      },
      "execution_count": 8,
      "outputs": [
        {
          "output_type": "execute_result",
          "data": {
            "text/plain": [
              "{'<pad>': 0,\n",
              " '<sos>': 1,\n",
              " '<eos>': 2,\n",
              " 'a': 3,\n",
              " 'b': 4,\n",
              " 'c': 5,\n",
              " 'd': 6,\n",
              " 'e': 7,\n",
              " 'f': 8,\n",
              " 'g': 9,\n",
              " 'h': 10,\n",
              " 'i': 11,\n",
              " 'j': 12,\n",
              " 'k': 13,\n",
              " 'l': 14,\n",
              " 'm': 15,\n",
              " 'n': 16,\n",
              " 'o': 17,\n",
              " 'p': 18,\n",
              " 'q': 19,\n",
              " 'r': 20,\n",
              " 's': 21,\n",
              " 't': 22,\n",
              " 'u': 23,\n",
              " 'v': 24,\n",
              " 'w': 25,\n",
              " 'x': 26,\n",
              " 'y': 27,\n",
              " 'z': 28}"
            ]
          },
          "metadata": {},
          "execution_count": 8
        }
      ]
    },
    {
      "cell_type": "code",
      "source": [
        "target_char2idx"
      ],
      "metadata": {
        "colab": {
          "base_uri": "https://localhost:8080/"
        },
        "id": "B6-0Qwe296Vc",
        "outputId": "f5ce8632-c6fe-4564-ddb9-f2d765700b99"
      },
      "execution_count": 9,
      "outputs": [
        {
          "output_type": "execute_result",
          "data": {
            "text/plain": [
              "{'<pad>': 0,\n",
              " '<sos>': 1,\n",
              " '<eos>': 2,\n",
              " 'ం': 3,\n",
              " 'ః': 4,\n",
              " 'అ': 5,\n",
              " 'ఆ': 6,\n",
              " 'ఇ': 7,\n",
              " 'ఈ': 8,\n",
              " 'ఉ': 9,\n",
              " 'ఊ': 10,\n",
              " 'ఋ': 11,\n",
              " 'ఎ': 12,\n",
              " 'ఏ': 13,\n",
              " 'ఐ': 14,\n",
              " 'ఒ': 15,\n",
              " 'ఓ': 16,\n",
              " 'ఔ': 17,\n",
              " 'క': 18,\n",
              " 'ఖ': 19,\n",
              " 'గ': 20,\n",
              " 'ఘ': 21,\n",
              " 'చ': 22,\n",
              " 'ఛ': 23,\n",
              " 'జ': 24,\n",
              " 'ఝ': 25,\n",
              " 'ఞ': 26,\n",
              " 'ట': 27,\n",
              " 'ఠ': 28,\n",
              " 'డ': 29,\n",
              " 'ఢ': 30,\n",
              " 'ణ': 31,\n",
              " 'త': 32,\n",
              " 'థ': 33,\n",
              " 'ద': 34,\n",
              " 'ధ': 35,\n",
              " 'న': 36,\n",
              " 'ప': 37,\n",
              " 'ఫ': 38,\n",
              " 'బ': 39,\n",
              " 'భ': 40,\n",
              " 'మ': 41,\n",
              " 'య': 42,\n",
              " 'ర': 43,\n",
              " 'ఱ': 44,\n",
              " 'ల': 45,\n",
              " 'ళ': 46,\n",
              " 'వ': 47,\n",
              " 'శ': 48,\n",
              " 'ష': 49,\n",
              " 'స': 50,\n",
              " 'హ': 51,\n",
              " 'ా': 52,\n",
              " 'ి': 53,\n",
              " 'ీ': 54,\n",
              " 'ు': 55,\n",
              " 'ూ': 56,\n",
              " 'ృ': 57,\n",
              " 'ె': 58,\n",
              " 'ే': 59,\n",
              " 'ై': 60,\n",
              " 'ొ': 61,\n",
              " 'ో': 62,\n",
              " 'ౌ': 63,\n",
              " '్': 64,\n",
              " '\\u200c': 65}"
            ]
          },
          "metadata": {},
          "execution_count": 9
        }
      ]
    },
    {
      "cell_type": "code",
      "source": [
        "# vectorial representations of letters -- integer based token encoding\n",
        "\n",
        "def encode_sentence(sentence, char2idx, max_len, is_target=False):\n",
        "    tokens = [char2idx[c] for c in sentence]\n",
        "    if is_target:\n",
        "        tokens = [char2idx[\"<sos>\"]] + tokens + [char2idx[\"<eos>\"]]\n",
        "    return tokens + [char2idx[\"<pad>\"]] * (max_len - len(tokens))\n",
        "\n",
        "# Compute max lengths\n",
        "max_encoder_seq_length = max(len(x) for x in train_df[\"latin\"])\n",
        "max_decoder_seq_length = max(len(y) for y in train_df[\"devanagari\"]) + 2  # for <sos> and <eos>\n",
        "\n",
        "print(max_encoder_seq_length)\n",
        "print(max_decoder_seq_length)"
      ],
      "metadata": {
        "colab": {
          "base_uri": "https://localhost:8080/"
        },
        "id": "hHvKVX-o-MUW",
        "outputId": "bb9a5a01-5386-415c-8561-7ffe9f3026a8"
      },
      "execution_count": 10,
      "outputs": [
        {
          "output_type": "stream",
          "name": "stdout",
          "text": [
            "25\n",
            "22\n"
          ]
        }
      ]
    },
    {
      "cell_type": "code",
      "source": [
        "def vectorize_data(df, input_char2idx, target_char2idx, max_encoder_len, max_decoder_len):\n",
        "    encoder_input_data = []\n",
        "    decoder_input_data = []\n",
        "    decoder_target_data = []\n",
        "\n",
        "    for i in range(len(df)):\n",
        "        input_seq = encode_sentence(df.iloc[i][\"latin\"], input_char2idx, max_encoder_len)\n",
        "        target_seq = encode_sentence(df.iloc[i][\"devanagari\"], target_char2idx, max_decoder_len, is_target=True)\n",
        "\n",
        "        decoder_input_seq = target_seq[:-1]\n",
        "        decoder_target_seq = target_seq[1:]\n",
        "\n",
        "        encoder_input_data.append(input_seq)\n",
        "        decoder_input_data.append(decoder_input_seq)\n",
        "        decoder_target_data.append(decoder_target_seq)\n",
        "\n",
        "    return (\n",
        "        np.array(encoder_input_data),\n",
        "        np.array(decoder_input_data),\n",
        "        np.array(decoder_target_data)\n",
        "    )\n"
      ],
      "metadata": {
        "id": "kncboU8iI_Bt"
      },
      "execution_count": 11,
      "outputs": []
    },
    {
      "cell_type": "code",
      "source": [
        "# Prepare data for training/validation/testing\n",
        "encoder_input_train, decoder_input_train, decoder_target_train = vectorize_data(\n",
        "    train_df, input_char2idx, target_char2idx, max_encoder_seq_length, max_decoder_seq_length\n",
        ")\n",
        "\n",
        "encoder_input_val, decoder_input_val, decoder_target_val = vectorize_data(\n",
        "    dev_df, input_char2idx, target_char2idx, max_encoder_seq_length, max_decoder_seq_length\n",
        ")\n"
      ],
      "metadata": {
        "id": "W0-Ltg8rK93s"
      },
      "execution_count": 12,
      "outputs": []
    },
    {
      "cell_type": "code",
      "source": [
        "print(encoder_input_train)\n",
        "print(decoder_input_train)\n",
        "print(decoder_target_train)"
      ],
      "metadata": {
        "colab": {
          "base_uri": "https://localhost:8080/"
        },
        "id": "oYqV3c6_fKTM",
        "outputId": "38648018-d23c-44cf-8a47-6765e1788802"
      },
      "execution_count": 17,
      "outputs": [
        {
          "output_type": "stream",
          "name": "stdout",
          "text": [
            "[[ 3 15 13 ...  0  0  0]\n",
            " [ 3 16 13 ...  0  0  0]\n",
            " [ 3 16 13 ...  0  0  0]\n",
            " ...\n",
            " [10 23 15 ...  0  0  0]\n",
            " [10 23 23 ...  0  0  0]\n",
            " [10 27 23 ...  0  0  0]]\n",
            "[[ 1  5  3 ...  0  0  0]\n",
            " [ 1  5  3 ...  0  0  0]\n",
            " [ 1  5  3 ...  0  0  0]\n",
            " ...\n",
            " [ 1 51 64 ...  0  0  0]\n",
            " [ 1 51 64 ...  0  0  0]\n",
            " [ 1 51 64 ...  0  0  0]]\n",
            "[[ 5  3 18 ...  0  0  0]\n",
            " [ 5  3 18 ...  0  0  0]\n",
            " [ 5  3 18 ...  0  0  0]\n",
            " ...\n",
            " [51 64 42 ...  0  0  0]\n",
            " [51 64 42 ...  0  0  0]\n",
            " [51 64 42 ...  0  0  0]]\n"
          ]
        }
      ]
    },
    {
      "cell_type": "code",
      "source": [
        "from tensorflow.keras.models import Model\n",
        "from tensorflow.keras.layers import Input, Embedding, Dense\n",
        "from tensorflow.keras.layers import SimpleRNN, LSTM, GRU\n",
        "from tensorflow.keras.layers import Bidirectional\n"
      ],
      "metadata": {
        "id": "QduT_DdrdrbW"
      },
      "execution_count": 13,
      "outputs": []
    },
    {
      "cell_type": "code",
      "source": [
        "def get_rnn_cell(cell_type, hidden_units, return_sequences=True, return_state=True):\n",
        "    if cell_type == 'RNN':\n",
        "        return SimpleRNN(hidden_units, return_sequences=return_sequences, return_state=return_state)\n",
        "    elif cell_type == 'LSTM':\n",
        "        return LSTM(hidden_units, return_sequences=return_sequences, return_state=return_state)\n",
        "    elif cell_type == 'GRU':\n",
        "        return GRU(hidden_units, return_sequences=return_sequences, return_state=return_state)\n",
        "    else:\n",
        "        raise ValueError(f\"Unknown cell type: {cell_type}\")\n"
      ],
      "metadata": {
        "id": "T-K5IIfPd5jA"
      },
      "execution_count": 14,
      "outputs": []
    },
    {
      "cell_type": "code",
      "source": [
        "def build_seq2seq_model(input_vocab_size, target_vocab_size, embedding_dim, hidden_units,\n",
        "                        encoder_layers=1, decoder_layers=1, cell_type='LSTM'):\n",
        "\n",
        "    # Encoder\n",
        "    encoder_inputs = Input(shape=(None,), name='encoder_inputs')\n",
        "    encoder_embedding = Embedding(input_vocab_size, embedding_dim, mask_zero=True, name='encoder_embedding')(encoder_inputs)\n",
        "\n",
        "    encoder_outputs = encoder_embedding\n",
        "    encoder_states = []\n",
        "\n",
        "    for i in range(encoder_layers):\n",
        "        # Return sequences True for all but last layer\n",
        "        return_seq = (i != encoder_layers - 1)\n",
        "        # RNN layer returns either 1 or 2 states (RNN/GRU vs LSTM)\n",
        "        rnn_layer = get_rnn_cell(cell_type, hidden_units, return_sequences=return_seq, return_state=True)\n",
        "        if cell_type == 'LSTM':\n",
        "            encoder_outputs, state_h, state_c = rnn_layer(encoder_outputs)\n",
        "            encoder_states = [state_h, state_c]\n",
        "        else:\n",
        "            encoder_outputs, state_h = rnn_layer(encoder_outputs)\n",
        "            encoder_states = [state_h]\n",
        "\n",
        "    # Decoder\n",
        "    decoder_inputs = Input(shape=(None,), name='decoder_inputs')\n",
        "    decoder_embedding = Embedding(target_vocab_size, embedding_dim, mask_zero=True, name='decoder_embedding')(decoder_inputs)\n",
        "\n",
        "    decoder_outputs = decoder_embedding\n",
        "    decoder_states = []\n",
        "\n",
        "    for i in range(decoder_layers):\n",
        "        return_seq = True  # Decoder must output full sequences for teacher forcing\n",
        "        rnn_layer = get_rnn_cell(cell_type, hidden_units, return_sequences=return_seq, return_state=True)\n",
        "        if cell_type == 'LSTM':\n",
        "            decoder_outputs, state_h, state_c = rnn_layer(decoder_outputs, initial_state=encoder_states)\n",
        "            decoder_states = [state_h, state_c]\n",
        "        else:\n",
        "            decoder_outputs, state_h = rnn_layer(decoder_outputs, initial_state=encoder_states)\n",
        "            decoder_states = [state_h]\n",
        "\n",
        "    # Output layer (project hidden state to vocab size)\n",
        "    decoder_dense = Dense(target_vocab_size, activation='softmax', name='output_projection')\n",
        "    decoder_outputs = decoder_dense(decoder_outputs)\n",
        "\n",
        "    # Define model\n",
        "    model = Model([encoder_inputs, decoder_inputs], decoder_outputs)\n",
        "\n",
        "    return model\n"
      ],
      "metadata": {
        "id": "MQWgtcqQfYiq"
      },
      "execution_count": null,
      "outputs": []
    },
    {
      "cell_type": "code",
      "source": [],
      "metadata": {
        "id": "Dcz92V7MfF0s"
      },
      "execution_count": null,
      "outputs": []
    },
    {
      "cell_type": "code",
      "source": [
        "for i in range(10):\n",
        "  print(len(train_df['latin'][i]))"
      ],
      "metadata": {
        "id": "iRDofd6rBs8c"
      },
      "execution_count": null,
      "outputs": []
    }
  ]
}